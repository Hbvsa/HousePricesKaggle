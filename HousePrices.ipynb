{
  "nbformat": 4,
  "nbformat_minor": 0,
  "metadata": {
    "colab": {
      "provenance": [],
      "authorship_tag": "ABX9TyPYpQ0xWn97fRnSG+hr5+nM",
      "include_colab_link": true
    },
    "kernelspec": {
      "name": "python3",
      "display_name": "Python 3"
    },
    "language_info": {
      "name": "python"
    }
  },
  "cells": [
    {
      "cell_type": "markdown",
      "metadata": {
        "id": "view-in-github",
        "colab_type": "text"
      },
      "source": [
        "<a href=\"https://colab.research.google.com/github/Hbvsa/HousePricesKaggle/blob/main/HousePrices.ipynb\" target=\"_parent\"><img src=\"https://colab.research.google.com/assets/colab-badge.svg\" alt=\"Open In Colab\"/></a>"
      ]
    },
    {
      "cell_type": "code",
      "execution_count": 417,
      "metadata": {
        "id": "KVvOhDxAD9fU"
      },
      "outputs": [],
      "source": [
        "import pandas as pd\n",
        "import numpy as np"
      ]
    },
    {
      "cell_type": "code",
      "source": [
        "def concat_df(train_data, test_data):\n",
        "    # Returns a concatenated df of training and test set\n",
        "    return pd.concat([train_data, test_data], sort=True).reset_index(drop=True)\n",
        "\n",
        "def divide_df(all_data):\n",
        "    # Returns divided dfs of training and test set\n",
        "    return all_data.loc[:1459], all_data.loc[1460:].drop(['SalePrice'], axis=1)\n",
        "\n",
        "df_train = pd.read_csv('train.csv')\n",
        "df_test = pd.read_csv('test.csv')\n",
        "df_all = concat_df(df_train, df_test)\n",
        "\n",
        "df_train.name = 'Training Set'\n",
        "df_test.name = 'Test Set'\n",
        "df_all.name = 'All Set'\n",
        "\n",
        "dfs = [df_train, df_test]\n",
        "\n",
        "print('Number of Training Examples = {}'.format(df_train.shape[0]))\n",
        "print('Number of Test Examples = {}\\n'.format(df_test.shape[0]))\n",
        "print('Training X Shape = {}'.format(df_train.shape))\n",
        "print('Training y Shape = {}\\n'.format(df_train['SalePrice'].shape[0]))\n",
        "print('Test X Shape = {}'.format(df_test.shape))\n",
        "print('Test y Shape = {}\\n'.format(df_test.shape[0]))\n",
        "print(df_train.columns)\n",
        "print(df_test.columns)"
      ],
      "metadata": {
        "colab": {
          "base_uri": "https://localhost:8080/"
        },
        "id": "cnFI-CHlNS8o",
        "outputId": "491aec4e-e3be-4ef9-cbcd-4498f2b1aa52"
      },
      "execution_count": 418,
      "outputs": [
        {
          "output_type": "stream",
          "name": "stdout",
          "text": [
            "Number of Training Examples = 1460\n",
            "Number of Test Examples = 1459\n",
            "\n",
            "Training X Shape = (1460, 81)\n",
            "Training y Shape = 1460\n",
            "\n",
            "Test X Shape = (1459, 80)\n",
            "Test y Shape = 1459\n",
            "\n",
            "Index(['Id', 'MSSubClass', 'MSZoning', 'LotFrontage', 'LotArea', 'Street',\n",
            "       'Alley', 'LotShape', 'LandContour', 'Utilities', 'LotConfig',\n",
            "       'LandSlope', 'Neighborhood', 'Condition1', 'Condition2', 'BldgType',\n",
            "       'HouseStyle', 'OverallQual', 'OverallCond', 'YearBuilt', 'YearRemodAdd',\n",
            "       'RoofStyle', 'RoofMatl', 'Exterior1st', 'Exterior2nd', 'MasVnrType',\n",
            "       'MasVnrArea', 'ExterQual', 'ExterCond', 'Foundation', 'BsmtQual',\n",
            "       'BsmtCond', 'BsmtExposure', 'BsmtFinType1', 'BsmtFinSF1',\n",
            "       'BsmtFinType2', 'BsmtFinSF2', 'BsmtUnfSF', 'TotalBsmtSF', 'Heating',\n",
            "       'HeatingQC', 'CentralAir', 'Electrical', '1stFlrSF', '2ndFlrSF',\n",
            "       'LowQualFinSF', 'GrLivArea', 'BsmtFullBath', 'BsmtHalfBath', 'FullBath',\n",
            "       'HalfBath', 'BedroomAbvGr', 'KitchenAbvGr', 'KitchenQual',\n",
            "       'TotRmsAbvGrd', 'Functional', 'Fireplaces', 'FireplaceQu', 'GarageType',\n",
            "       'GarageYrBlt', 'GarageFinish', 'GarageCars', 'GarageArea', 'GarageQual',\n",
            "       'GarageCond', 'PavedDrive', 'WoodDeckSF', 'OpenPorchSF',\n",
            "       'EnclosedPorch', '3SsnPorch', 'ScreenPorch', 'PoolArea', 'PoolQC',\n",
            "       'Fence', 'MiscFeature', 'MiscVal', 'MoSold', 'YrSold', 'SaleType',\n",
            "       'SaleCondition', 'SalePrice'],\n",
            "      dtype='object')\n",
            "Index(['Id', 'MSSubClass', 'MSZoning', 'LotFrontage', 'LotArea', 'Street',\n",
            "       'Alley', 'LotShape', 'LandContour', 'Utilities', 'LotConfig',\n",
            "       'LandSlope', 'Neighborhood', 'Condition1', 'Condition2', 'BldgType',\n",
            "       'HouseStyle', 'OverallQual', 'OverallCond', 'YearBuilt', 'YearRemodAdd',\n",
            "       'RoofStyle', 'RoofMatl', 'Exterior1st', 'Exterior2nd', 'MasVnrType',\n",
            "       'MasVnrArea', 'ExterQual', 'ExterCond', 'Foundation', 'BsmtQual',\n",
            "       'BsmtCond', 'BsmtExposure', 'BsmtFinType1', 'BsmtFinSF1',\n",
            "       'BsmtFinType2', 'BsmtFinSF2', 'BsmtUnfSF', 'TotalBsmtSF', 'Heating',\n",
            "       'HeatingQC', 'CentralAir', 'Electrical', '1stFlrSF', '2ndFlrSF',\n",
            "       'LowQualFinSF', 'GrLivArea', 'BsmtFullBath', 'BsmtHalfBath', 'FullBath',\n",
            "       'HalfBath', 'BedroomAbvGr', 'KitchenAbvGr', 'KitchenQual',\n",
            "       'TotRmsAbvGrd', 'Functional', 'Fireplaces', 'FireplaceQu', 'GarageType',\n",
            "       'GarageYrBlt', 'GarageFinish', 'GarageCars', 'GarageArea', 'GarageQual',\n",
            "       'GarageCond', 'PavedDrive', 'WoodDeckSF', 'OpenPorchSF',\n",
            "       'EnclosedPorch', '3SsnPorch', 'ScreenPorch', 'PoolArea', 'PoolQC',\n",
            "       'Fence', 'MiscFeature', 'MiscVal', 'MoSold', 'YrSold', 'SaleType',\n",
            "       'SaleCondition'],\n",
            "      dtype='object')\n"
          ]
        }
      ]
    },
    {
      "cell_type": "markdown",
      "source": [
        "There are a lot of missing values which are just the fact that indeed that feature is not present and therefore must be filled with its own category. These process needs you to go through the documentation. After going through the documentation you can see that all columns with a big number of missing values (>50) and which are of object dtype can be filled with 'NA' as a category."
      ],
      "metadata": {
        "id": "V1ok9H26S5tc"
      }
    },
    {
      "cell_type": "code",
      "source": [
        "# Set the maximum number of rows to be displayed\n",
        "pd.set_option('display.max_rows', None)\n",
        "\n",
        "# Set the maximum width of the columns to be displayed\n",
        "pd.set_option('display.width', None)"
      ],
      "metadata": {
        "id": "ubr6rm7JF-kN"
      },
      "execution_count": 419,
      "outputs": []
    },
    {
      "cell_type": "code",
      "source": [
        "df_all.isnull().sum()"
      ],
      "metadata": {
        "colab": {
          "base_uri": "https://localhost:8080/"
        },
        "id": "3aVbNN4RO9If",
        "outputId": "189302f4-d014-4b8b-ec57-b4cc95c71039"
      },
      "execution_count": 420,
      "outputs": [
        {
          "output_type": "execute_result",
          "data": {
            "text/plain": [
              "1stFlrSF            0\n",
              "2ndFlrSF            0\n",
              "3SsnPorch           0\n",
              "Alley            2721\n",
              "BedroomAbvGr        0\n",
              "BldgType            0\n",
              "BsmtCond           82\n",
              "BsmtExposure       82\n",
              "BsmtFinSF1          1\n",
              "BsmtFinSF2          1\n",
              "BsmtFinType1       79\n",
              "BsmtFinType2       80\n",
              "BsmtFullBath        2\n",
              "BsmtHalfBath        2\n",
              "BsmtQual           81\n",
              "BsmtUnfSF           1\n",
              "CentralAir          0\n",
              "Condition1          0\n",
              "Condition2          0\n",
              "Electrical          1\n",
              "EnclosedPorch       0\n",
              "ExterCond           0\n",
              "ExterQual           0\n",
              "Exterior1st         1\n",
              "Exterior2nd         1\n",
              "Fence            2348\n",
              "FireplaceQu      1420\n",
              "Fireplaces          0\n",
              "Foundation          0\n",
              "FullBath            0\n",
              "Functional          2\n",
              "GarageArea          1\n",
              "GarageCars          1\n",
              "GarageCond        159\n",
              "GarageFinish      159\n",
              "GarageQual        159\n",
              "GarageType        157\n",
              "GarageYrBlt       159\n",
              "GrLivArea           0\n",
              "HalfBath            0\n",
              "Heating             0\n",
              "HeatingQC           0\n",
              "HouseStyle          0\n",
              "Id                  0\n",
              "KitchenAbvGr        0\n",
              "KitchenQual         1\n",
              "LandContour         0\n",
              "LandSlope           0\n",
              "LotArea             0\n",
              "LotConfig           0\n",
              "LotFrontage       486\n",
              "LotShape            0\n",
              "LowQualFinSF        0\n",
              "MSSubClass          0\n",
              "MSZoning            4\n",
              "MasVnrArea         23\n",
              "MasVnrType       1766\n",
              "MiscFeature      2814\n",
              "MiscVal             0\n",
              "MoSold              0\n",
              "Neighborhood        0\n",
              "OpenPorchSF         0\n",
              "OverallCond         0\n",
              "OverallQual         0\n",
              "PavedDrive          0\n",
              "PoolArea            0\n",
              "PoolQC           2909\n",
              "RoofMatl            0\n",
              "RoofStyle           0\n",
              "SaleCondition       0\n",
              "SalePrice        1459\n",
              "SaleType            1\n",
              "ScreenPorch         0\n",
              "Street              0\n",
              "TotRmsAbvGrd        0\n",
              "TotalBsmtSF         1\n",
              "Utilities           2\n",
              "WoodDeckSF          0\n",
              "YearBuilt           0\n",
              "YearRemodAdd        0\n",
              "YrSold              0\n",
              "dtype: int64"
            ]
          },
          "metadata": {},
          "execution_count": 420
        }
      ]
    },
    {
      "cell_type": "markdown",
      "source": [
        "#Fixing missing values of object features"
      ],
      "metadata": {
        "id": "kK1zd9t3zoLn"
      }
    },
    {
      "cell_type": "code",
      "source": [
        "for col in df_all.columns:\n",
        "    if df_all[col].dtype == 'object' and df_all[col].isnull().sum() > 50:\n",
        "        print(f\"Column: {col}\")\n",
        "        print(f\"Number of missing values before filling: {df_all[col].isnull().sum()}\")\n",
        "        df_all[col] = df_all[col].fillna('NA')\n",
        "        print(f\"Number of missing values after filling: {df_all[col].isnull().sum()}\")\n",
        "        print(\"\\n\")"
      ],
      "metadata": {
        "colab": {
          "base_uri": "https://localhost:8080/"
        },
        "id": "NJ-W1seLMoxX",
        "outputId": "65100ce1-20b1-4d53-dc5a-1b7c64803da3"
      },
      "execution_count": 421,
      "outputs": [
        {
          "output_type": "stream",
          "name": "stdout",
          "text": [
            "Column: Alley\n",
            "Number of missing values before filling: 2721\n",
            "Number of missing values after filling: 0\n",
            "\n",
            "\n",
            "Column: BsmtCond\n",
            "Number of missing values before filling: 82\n",
            "Number of missing values after filling: 0\n",
            "\n",
            "\n",
            "Column: BsmtExposure\n",
            "Number of missing values before filling: 82\n",
            "Number of missing values after filling: 0\n",
            "\n",
            "\n",
            "Column: BsmtFinType1\n",
            "Number of missing values before filling: 79\n",
            "Number of missing values after filling: 0\n",
            "\n",
            "\n",
            "Column: BsmtFinType2\n",
            "Number of missing values before filling: 80\n",
            "Number of missing values after filling: 0\n",
            "\n",
            "\n",
            "Column: BsmtQual\n",
            "Number of missing values before filling: 81\n",
            "Number of missing values after filling: 0\n",
            "\n",
            "\n",
            "Column: Fence\n",
            "Number of missing values before filling: 2348\n",
            "Number of missing values after filling: 0\n",
            "\n",
            "\n",
            "Column: FireplaceQu\n",
            "Number of missing values before filling: 1420\n",
            "Number of missing values after filling: 0\n",
            "\n",
            "\n",
            "Column: GarageCond\n",
            "Number of missing values before filling: 159\n",
            "Number of missing values after filling: 0\n",
            "\n",
            "\n",
            "Column: GarageFinish\n",
            "Number of missing values before filling: 159\n",
            "Number of missing values after filling: 0\n",
            "\n",
            "\n",
            "Column: GarageQual\n",
            "Number of missing values before filling: 159\n",
            "Number of missing values after filling: 0\n",
            "\n",
            "\n",
            "Column: GarageType\n",
            "Number of missing values before filling: 157\n",
            "Number of missing values after filling: 0\n",
            "\n",
            "\n",
            "Column: MasVnrType\n",
            "Number of missing values before filling: 1766\n",
            "Number of missing values after filling: 0\n",
            "\n",
            "\n",
            "Column: MiscFeature\n",
            "Number of missing values before filling: 2814\n",
            "Number of missing values after filling: 0\n",
            "\n",
            "\n",
            "Column: PoolQC\n",
            "Number of missing values before filling: 2909\n",
            "Number of missing values after filling: 0\n",
            "\n",
            "\n"
          ]
        }
      ]
    },
    {
      "cell_type": "markdown",
      "source": [
        "Now lets deal with the ones which still have a lot of missing values but are continous values"
      ],
      "metadata": {
        "id": "sVSkgn3kUlyk"
      }
    },
    {
      "cell_type": "code",
      "source": [
        "missing_values = df_all.isnull().sum()\n",
        "missing_values = missing_values[missing_values != 0]\n",
        "print(missing_values)"
      ],
      "metadata": {
        "colab": {
          "base_uri": "https://localhost:8080/"
        },
        "id": "I4q4aPhGUSyo",
        "outputId": "f19b4333-04b0-4635-9d72-3a05f60776ba"
      },
      "execution_count": 422,
      "outputs": [
        {
          "output_type": "stream",
          "name": "stdout",
          "text": [
            "BsmtFinSF1         1\n",
            "BsmtFinSF2         1\n",
            "BsmtFullBath       2\n",
            "BsmtHalfBath       2\n",
            "BsmtUnfSF          1\n",
            "Electrical         1\n",
            "Exterior1st        1\n",
            "Exterior2nd        1\n",
            "Functional         2\n",
            "GarageArea         1\n",
            "GarageCars         1\n",
            "GarageYrBlt      159\n",
            "KitchenQual        1\n",
            "LotFrontage      486\n",
            "MSZoning           4\n",
            "MasVnrArea        23\n",
            "SalePrice       1459\n",
            "SaleType           1\n",
            "TotalBsmtSF        1\n",
            "Utilities          2\n",
            "dtype: int64\n"
          ]
        }
      ]
    },
    {
      "cell_type": "markdown",
      "source": [
        "Garage YrBlt if the garagetype or garage location say there is no garage we can fill with 0"
      ],
      "metadata": {
        "id": "cqzBq6RSUt6i"
      }
    },
    {
      "cell_type": "code",
      "source": [
        "import pandas as pd\n",
        "import numpy as np\n",
        "\n",
        "# Assuming df_all is your dataset\n",
        "# Fill missing values in the GarageYrBlt column based on the condition\n",
        "cond1 = df_all['GarageCond'] == 'NA'\n",
        "cond2 = df_all['GarageYrBlt'].isnull() & (df_all['GarageCond'] != 'NA')\n",
        "df_all.loc[cond1, 'GarageYrBlt'] = 0\n",
        "df_all.loc[cond2, 'GarageYrBlt'] = df_all.loc[cond2, 'YearBuilt']"
      ],
      "metadata": {
        "id": "4y58PUxXUlIk"
      },
      "execution_count": 423,
      "outputs": []
    },
    {
      "cell_type": "code",
      "source": [
        "missing_values = df_all.isnull().sum()\n",
        "missing_values = missing_values[missing_values != 0]\n",
        "print(missing_values)"
      ],
      "metadata": {
        "colab": {
          "base_uri": "https://localhost:8080/"
        },
        "id": "HQmh-gmVXH8W",
        "outputId": "0c6bb46e-b42b-49f6-e3f4-265d1b5c1951"
      },
      "execution_count": 424,
      "outputs": [
        {
          "output_type": "stream",
          "name": "stdout",
          "text": [
            "BsmtFinSF1         1\n",
            "BsmtFinSF2         1\n",
            "BsmtFullBath       2\n",
            "BsmtHalfBath       2\n",
            "BsmtUnfSF          1\n",
            "Electrical         1\n",
            "Exterior1st        1\n",
            "Exterior2nd        1\n",
            "Functional         2\n",
            "GarageArea         1\n",
            "GarageCars         1\n",
            "KitchenQual        1\n",
            "LotFrontage      486\n",
            "MSZoning           4\n",
            "MasVnrArea        23\n",
            "SalePrice       1459\n",
            "SaleType           1\n",
            "TotalBsmtSF        1\n",
            "Utilities          2\n",
            "dtype: int64\n"
          ]
        }
      ]
    },
    {
      "cell_type": "markdown",
      "source": [
        "#Now for LotFrontage.\n",
        "All properties should be connected in someway to a street even if the house itself is hidden inside a big property.\n",
        "So it can't be zero. We can measure the correlation with the target variable to see it is important anyway\n",
        "\n",
        "\n"
      ],
      "metadata": {
        "id": "eFcHssuvZUVf"
      }
    },
    {
      "cell_type": "code",
      "source": [
        "# Assuming df_all is your dataset\n",
        "# Select the column you want to compute the correlation for\n",
        "column_name = 'LotFrontage'\n",
        "\n",
        "# Compute the correlation between the column and the target variable\n",
        "correlation = df_all[column_name].corr(df_all['SalePrice'])\n",
        "\n",
        "# Print the correlation to the console\n",
        "print(f\"The correlation between {column_name} and SalePrice is {correlation:.4f}\")"
      ],
      "metadata": {
        "colab": {
          "base_uri": "https://localhost:8080/"
        },
        "id": "3U3AJZNIZXT_",
        "outputId": "187a0c84-1b59-458c-dcbd-49b285dec25c"
      },
      "execution_count": 425,
      "outputs": [
        {
          "output_type": "stream",
          "name": "stdout",
          "text": [
            "The correlation between LotFrontage and SalePrice is 0.3518\n"
          ]
        }
      ]
    },
    {
      "cell_type": "markdown",
      "source": [
        "It is important. So we are going to check if some other variables have a high correlation with this one."
      ],
      "metadata": {
        "id": "rxna3PSPavL0"
      }
    },
    {
      "cell_type": "code",
      "source": [
        "df_all_corr = df_all.drop(['SalePrice'], axis=1).corr(numeric_only=True).abs().unstack().sort_values(kind=\"quicksort\", ascending=False).reset_index()\n",
        "df_all_corr.rename(columns={\"level_0\": \"Feature 1\", \"level_1\": \"Feature 2\", 0: 'Correlation Coefficient'}, inplace=True)\n",
        "df_all_corr.drop(df_all_corr.iloc[1::2].index, inplace=True)\n",
        "df_all_corr_nd = df_all_corr.drop(df_all_corr[df_all_corr['Correlation Coefficient'] == 1.0].index)"
      ],
      "metadata": {
        "id": "IFhrUwspa87G"
      },
      "execution_count": 426,
      "outputs": []
    },
    {
      "cell_type": "code",
      "source": [
        "# Assuming df_all is your dataset\n",
        "# Compute the correlation matrix of the dataset\n",
        "corr_matrix = df_all.corr(numeric_only=True)\n",
        "\n",
        "# Create a heatmap of the correlation matrix\n",
        "plt.figure(figsize=(12, 10))\n",
        "sns.heatmap(corr_matrix, cmap='coolwarm', fmt='.2f', linewidths=0.1)\n",
        "plt.title('Correlation matrix of features')\n",
        "plt.show()"
      ],
      "metadata": {
        "colab": {
          "base_uri": "https://localhost:8080/",
          "height": 945
        },
        "id": "OkdZ0YWDdGVb",
        "outputId": "c6f848a9-8e88-4c39-98c6-739d446929f4"
      },
      "execution_count": 427,
      "outputs": [
        {
          "output_type": "display_data",
          "data": {
            "text/plain": [
              "<Figure size 1200x1000 with 2 Axes>"
            ],
            "image/png": "[encoded data removed]"
          },
          "metadata": {}
        }
      ]
    },
    {
      "cell_type": "code",
      "source": [
        "# Assuming df_all is your dataset\n",
        "# Compute the correlations of all variables with LotArea\n",
        "corr_with_LotArea = df_all.corrwith(df_all['LotArea'],numeric_only=True)\n",
        "\n",
        "# Print the correlations to the console\n",
        "print(corr_with_LotArea)"
      ],
      "metadata": {
        "colab": {
          "base_uri": "https://localhost:8080/"
        },
        "id": "YM05A5v2dxum",
        "outputId": "dc9ab087-5240-49c0-90ff-0d0f4fee892a"
      },
      "execution_count": 428,
      "outputs": [
        {
          "output_type": "stream",
          "name": "stdout",
          "text": [
            "1stFlrSF         0.332460\n",
            "2ndFlrSF         0.031515\n",
            "3SsnPorch        0.015995\n",
            "BedroomAbvGr     0.132801\n",
            "BsmtFinSF1       0.194031\n",
            "BsmtFinSF2       0.084059\n",
            "BsmtFullBath     0.128349\n",
            "BsmtHalfBath     0.026292\n",
            "BsmtUnfSF        0.021362\n",
            "EnclosedPorch    0.020974\n",
            "Fireplaces       0.261185\n",
            "FullBath         0.125826\n",
            "GarageArea       0.213251\n",
            "GarageCars       0.180434\n",
            "GarageYrBlt      0.073762\n",
            "GrLivArea        0.284519\n",
            "HalfBath         0.034244\n",
            "Id              -0.040746\n",
            "KitchenAbvGr    -0.020854\n",
            "LotArea          1.000000\n",
            "LotFrontage      0.489896\n",
            "LowQualFinSF     0.000554\n",
            "MSSubClass      -0.201730\n",
            "MasVnrArea       0.125596\n",
            "MiscVal          0.069029\n",
            "MoSold           0.004156\n",
            "OpenPorchSF      0.104797\n",
            "OverallCond     -0.035617\n",
            "OverallQual      0.100541\n",
            "PoolArea         0.093708\n",
            "SalePrice        0.263843\n",
            "ScreenPorch      0.054375\n",
            "TotRmsAbvGrd     0.213802\n",
            "TotalBsmtSF      0.254138\n",
            "WoodDeckSF       0.158045\n",
            "YearBuilt        0.024128\n",
            "YearRemodAdd     0.021612\n",
            "YrSold          -0.024234\n",
            "dtype: float64\n"
          ]
        }
      ]
    },
    {
      "cell_type": "markdown",
      "source": [
        "LotArea seems to have a good correlation so we will use that to fill the LotFrontage"
      ],
      "metadata": {
        "id": "zGOJYkeUep85"
      }
    },
    {
      "cell_type": "code",
      "source": [
        "import pandas as pd\n",
        "from sklearn.linear_model import LinearRegression\n",
        "\n",
        "# Assuming df_all is your dataset\n",
        "# Create a copy of the dataset\n",
        "df = df_all.copy()\n",
        "\n",
        "# Drop missing values in LotFrontage\n",
        "df_no_missing = df.dropna(subset=['LotFrontage'])\n",
        "\n",
        "# Fit a linear regression model to predict LotFrontage based on LotArea\n",
        "X = df_no_missing[['LotArea']]\n",
        "y = df_no_missing['LotFrontage']\n",
        "model = LinearRegression()\n",
        "model.fit(X, y)\n",
        "\n",
        "# Use the model to predict missing values in LotFrontage\n",
        "df.loc[df['LotFrontage'].isnull(), 'LotFrontage'] = model.predict(df[df['LotFrontage'].isnull()][['LotArea']])"
      ],
      "metadata": {
        "id": "95cGF5c0gHpo"
      },
      "execution_count": 429,
      "outputs": []
    },
    {
      "cell_type": "code",
      "source": [
        "missing_values = df.isnull().sum()\n",
        "missing_values = missing_values[missing_values != 0]\n",
        "print(missing_values)"
      ],
      "metadata": {
        "colab": {
          "base_uri": "https://localhost:8080/"
        },
        "id": "JfNNhN0Vh2Wd",
        "outputId": "dd17fa38-e209-4238-af43-6a79fc4886d7"
      },
      "execution_count": 430,
      "outputs": [
        {
          "output_type": "stream",
          "name": "stdout",
          "text": [
            "BsmtFinSF1         1\n",
            "BsmtFinSF2         1\n",
            "BsmtFullBath       2\n",
            "BsmtHalfBath       2\n",
            "BsmtUnfSF          1\n",
            "Electrical         1\n",
            "Exterior1st        1\n",
            "Exterior2nd        1\n",
            "Functional         2\n",
            "GarageArea         1\n",
            "GarageCars         1\n",
            "KitchenQual        1\n",
            "MSZoning           4\n",
            "MasVnrArea        23\n",
            "SalePrice       1459\n",
            "SaleType           1\n",
            "TotalBsmtSF        1\n",
            "Utilities          2\n",
            "dtype: int64\n"
          ]
        }
      ]
    },
    {
      "cell_type": "markdown",
      "source": [
        "#Before trying to fix any more missing values let us try to transform the categorical features into labels so that we can check all the correlation of the features with the target variable.\n"
      ],
      "metadata": {
        "id": "pRfHO9U1j5ZW"
      }
    },
    {
      "cell_type": "code",
      "source": [
        "import pandas as pd\n",
        "\n",
        "# Assuming df_train is your dataset\n",
        "for column in df_train.columns:\n",
        "    if df[column].dtype == 'object' :\n",
        "        num_unique = df[column].unique()\n",
        "        print(f\"Categorical {column}:\")\n",
        "        print(df[column].unique()[:10])\n",
        "        print(\"...\")\n",
        ""
      ],
      "metadata": {
        "colab": {
          "base_uri": "https://localhost:8080/"
        },
        "id": "T8WC_KYsqKJQ",
        "outputId": "12c1ffa6-1ba6-4abb-ccf3-da3ca107c9ef"
      },
      "execution_count": 431,
      "outputs": [
        {
          "output_type": "stream",
          "name": "stdout",
          "text": [
            "Categorical MSZoning:\n",
            "['RL' 'RM' 'C (all)' 'FV' 'RH' nan]\n",
            "...\n",
            "Categorical Street:\n",
            "['Pave' 'Grvl']\n",
            "...\n",
            "Categorical Alley:\n",
            "['NA' 'Grvl' 'Pave']\n",
            "...\n",
            "Categorical LotShape:\n",
            "['Reg' 'IR1' 'IR2' 'IR3']\n",
            "...\n",
            "Categorical LandContour:\n",
            "['Lvl' 'Bnk' 'Low' 'HLS']\n",
            "...\n",
            "Categorical Utilities:\n",
            "['AllPub' 'NoSeWa' nan]\n",
            "...\n",
            "Categorical LotConfig:\n",
            "['Inside' 'FR2' 'Corner' 'CulDSac' 'FR3']\n",
            "...\n",
            "Categorical LandSlope:\n",
            "['Gtl' 'Mod' 'Sev']\n",
            "...\n",
            "Categorical Neighborhood:\n",
            "['CollgCr' 'Veenker' 'Crawfor' 'NoRidge' 'Mitchel' 'Somerst' 'NWAmes'\n",
            " 'OldTown' 'BrkSide' 'Sawyer']\n",
            "...\n",
            "Categorical Condition1:\n",
            "['Norm' 'Feedr' 'PosN' 'Artery' 'RRAe' 'RRNn' 'RRAn' 'PosA' 'RRNe']\n",
            "...\n",
            "Categorical Condition2:\n",
            "['Norm' 'Artery' 'RRNn' 'Feedr' 'PosN' 'PosA' 'RRAn' 'RRAe']\n",
            "...\n",
            "Categorical BldgType:\n",
            "['1Fam' '2fmCon' 'Duplex' 'TwnhsE' 'Twnhs']\n",
            "...\n",
            "Categorical HouseStyle:\n",
            "['2Story' '1Story' '1.5Fin' '1.5Unf' 'SFoyer' 'SLvl' '2.5Unf' '2.5Fin']\n",
            "...\n",
            "Categorical RoofStyle:\n",
            "['Gable' 'Hip' 'Gambrel' 'Mansard' 'Flat' 'Shed']\n",
            "...\n",
            "Categorical RoofMatl:\n",
            "['CompShg' 'WdShngl' 'Metal' 'WdShake' 'Membran' 'Tar&Grv' 'Roll'\n",
            " 'ClyTile']\n",
            "...\n",
            "Categorical Exterior1st:\n",
            "['VinylSd' 'MetalSd' 'Wd Sdng' 'HdBoard' 'BrkFace' 'WdShing' 'CemntBd'\n",
            " 'Plywood' 'AsbShng' 'Stucco']\n",
            "...\n",
            "Categorical Exterior2nd:\n",
            "['VinylSd' 'MetalSd' 'Wd Shng' 'HdBoard' 'Plywood' 'Wd Sdng' 'CmentBd'\n",
            " 'BrkFace' 'Stucco' 'AsbShng']\n",
            "...\n",
            "Categorical MasVnrType:\n",
            "['BrkFace' 'NA' 'Stone' 'BrkCmn']\n",
            "...\n",
            "Categorical ExterQual:\n",
            "['Gd' 'TA' 'Ex' 'Fa']\n",
            "...\n",
            "Categorical ExterCond:\n",
            "['TA' 'Gd' 'Fa' 'Po' 'Ex']\n",
            "...\n",
            "Categorical Foundation:\n",
            "['PConc' 'CBlock' 'BrkTil' 'Wood' 'Slab' 'Stone']\n",
            "...\n",
            "Categorical BsmtQual:\n",
            "['Gd' 'TA' 'Ex' 'NA' 'Fa']\n",
            "...\n",
            "Categorical BsmtCond:\n",
            "['TA' 'Gd' 'NA' 'Fa' 'Po']\n",
            "...\n",
            "Categorical BsmtExposure:\n",
            "['No' 'Gd' 'Mn' 'Av' 'NA']\n",
            "...\n",
            "Categorical BsmtFinType1:\n",
            "['GLQ' 'ALQ' 'Unf' 'Rec' 'BLQ' 'NA' 'LwQ']\n",
            "...\n",
            "Categorical BsmtFinType2:\n",
            "['Unf' 'BLQ' 'NA' 'ALQ' 'Rec' 'LwQ' 'GLQ']\n",
            "...\n",
            "Categorical Heating:\n",
            "['GasA' 'GasW' 'Grav' 'Wall' 'OthW' 'Floor']\n",
            "...\n",
            "Categorical HeatingQC:\n",
            "['Ex' 'Gd' 'TA' 'Fa' 'Po']\n",
            "...\n",
            "Categorical CentralAir:\n",
            "['Y' 'N']\n",
            "...\n",
            "Categorical Electrical:\n",
            "['SBrkr' 'FuseF' 'FuseA' 'FuseP' 'Mix' nan]\n",
            "...\n",
            "Categorical KitchenQual:\n",
            "['Gd' 'TA' 'Ex' 'Fa' nan]\n",
            "...\n",
            "Categorical Functional:\n",
            "['Typ' 'Min1' 'Maj1' 'Min2' 'Mod' 'Maj2' 'Sev' nan]\n",
            "...\n",
            "Categorical FireplaceQu:\n",
            "['NA' 'TA' 'Gd' 'Fa' 'Ex' 'Po']\n",
            "...\n",
            "Categorical GarageType:\n",
            "['Attchd' 'Detchd' 'BuiltIn' 'CarPort' 'NA' 'Basment' '2Types']\n",
            "...\n",
            "Categorical GarageFinish:\n",
            "['RFn' 'Unf' 'Fin' 'NA']\n",
            "...\n",
            "Categorical GarageQual:\n",
            "['TA' 'Fa' 'Gd' 'NA' 'Ex' 'Po']\n",
            "...\n",
            "Categorical GarageCond:\n",
            "['TA' 'Fa' 'NA' 'Gd' 'Po' 'Ex']\n",
            "...\n",
            "Categorical PavedDrive:\n",
            "['Y' 'N' 'P']\n",
            "...\n",
            "Categorical PoolQC:\n",
            "['NA' 'Ex' 'Fa' 'Gd']\n",
            "...\n",
            "Categorical Fence:\n",
            "['NA' 'MnPrv' 'GdWo' 'GdPrv' 'MnWw']\n",
            "...\n",
            "Categorical MiscFeature:\n",
            "['NA' 'Shed' 'Gar2' 'Othr' 'TenC']\n",
            "...\n",
            "Categorical SaleType:\n",
            "['WD' 'New' 'COD' 'ConLD' 'ConLI' 'CWD' 'ConLw' 'Con' 'Oth' nan]\n",
            "...\n",
            "Categorical SaleCondition:\n",
            "['Normal' 'Abnorml' 'Partial' 'AdjLand' 'Alloca' 'Family']\n",
            "...\n"
          ]
        }
      ]
    },
    {
      "cell_type": "code",
      "source": [
        "import pandas as pd\n",
        "\n",
        "# Assuming df_train is your dataset\n",
        "for column in df_train.columns:\n",
        "    if df_train[column].dtype != 'object' and column not in ['Id','YearBuilt','YearRemodAdd','YrSold','']:\n",
        "        num_unique = df_train[column].unique()\n",
        "        if np.max(num_unique) > 20:\n",
        "            print(f\"Continuous {column}:\")\n",
        "            print(df_train[column].unique()[:10])\n",
        "            print(\"...\")\n",
        "        else:\n",
        "            print(f\"Ordinal{column}:\")\n",
        "            print(df_train[column].unique()[:10])"
      ],
      "metadata": {
        "colab": {
          "base_uri": "https://localhost:8080/"
        },
        "id": "dAcZS8golPMC",
        "outputId": "d5edeffa-251e-4892-a392-75efe785052b"
      },
      "execution_count": 432,
      "outputs": [
        {
          "output_type": "stream",
          "name": "stdout",
          "text": [
            "Continuous MSSubClass:\n",
            "[ 60  20  70  50 190  45  90 120  30  85]\n",
            "...\n",
            "OrdinalLotFrontage:\n",
            "[65. 80. 68. 60. 84. 85. 75. nan 51. 50.]\n",
            "Continuous LotArea:\n",
            "[ 8450  9600 11250  9550 14260 14115 10084 10382  6120  7420]\n",
            "...\n",
            "OrdinalOverallQual:\n",
            "[ 7  6  8  5  9  4 10  3  1  2]\n",
            "OrdinalOverallCond:\n",
            "[5 8 6 7 4 2 3 9 1]\n",
            "OrdinalMasVnrArea:\n",
            "[196.   0. 162. 350. 186. 240. 286. 306. 212. 180.]\n",
            "Continuous BsmtFinSF1:\n",
            "[ 706  978  486  216  655  732 1369  859    0  851]\n",
            "...\n",
            "Continuous BsmtFinSF2:\n",
            "[  0  32 668 486  93 491 506 712 362  41]\n",
            "...\n",
            "Continuous BsmtUnfSF:\n",
            "[150 284 434 540 490  64 317 216 952 140]\n",
            "...\n",
            "Continuous TotalBsmtSF:\n",
            "[ 856 1262  920  756 1145  796 1686 1107  952  991]\n",
            "...\n",
            "Continuous 1stFlrSF:\n",
            "[ 856 1262  920  961 1145  796 1694 1107 1022 1077]\n",
            "...\n",
            "Continuous 2ndFlrSF:\n",
            "[ 854    0  866  756 1053  566  983  752 1142 1218]\n",
            "...\n",
            "Continuous LowQualFinSF:\n",
            "[  0 360 513 234 528 572 144 392 371 390]\n",
            "...\n",
            "Continuous GrLivArea:\n",
            "[1710 1262 1786 1717 2198 1362 1694 2090 1774 1077]\n",
            "...\n",
            "OrdinalBsmtFullBath:\n",
            "[1 0 2 3]\n",
            "OrdinalBsmtHalfBath:\n",
            "[0 1 2]\n",
            "OrdinalFullBath:\n",
            "[2 1 3 0]\n",
            "OrdinalHalfBath:\n",
            "[1 0 2]\n",
            "OrdinalBedroomAbvGr:\n",
            "[3 4 1 2 0 5 6 8]\n",
            "OrdinalKitchenAbvGr:\n",
            "[1 2 3 0]\n",
            "OrdinalTotRmsAbvGrd:\n",
            "[ 8  6  7  9  5 11  4 10 12  3]\n",
            "OrdinalFireplaces:\n",
            "[0 1 2 3]\n",
            "OrdinalGarageYrBlt:\n",
            "[2003. 1976. 2001. 1998. 2000. 1993. 2004. 1973. 1931. 1939.]\n",
            "OrdinalGarageCars:\n",
            "[2 3 1 0 4]\n",
            "Continuous GarageArea:\n",
            "[548 460 608 642 836 480 636 484 468 205]\n",
            "...\n",
            "Continuous WoodDeckSF:\n",
            "[  0 298 192  40 255 235  90 147 140 160]\n",
            "...\n",
            "Continuous OpenPorchSF:\n",
            "[ 61   0  42  35  84  30  57 204   4  21]\n",
            "...\n",
            "Continuous EnclosedPorch:\n",
            "[  0 272 228 205 176  87 172 102  37 144]\n",
            "...\n",
            "Continuous 3SsnPorch:\n",
            "[  0 320 407 130 180 168 140 508 238 245]\n",
            "...\n",
            "Continuous ScreenPorch:\n",
            "[  0 176 198 291 252  99 184 168 130 142]\n",
            "...\n",
            "Continuous PoolArea:\n",
            "[  0 512 648 576 555 480 519 738]\n",
            "...\n",
            "Continuous MiscVal:\n",
            "[    0   700   350   500   400   480   450 15500  1200   800]\n",
            "...\n",
            "OrdinalMoSold:\n",
            "[ 2  5  9 12 10  8 11  4  1  7]\n",
            "Continuous SalePrice:\n",
            "[208500 181500 223500 140000 250000 143000 307000 200000 129900 118000]\n",
            "...\n"
          ]
        }
      ]
    },
    {
      "cell_type": "code",
      "source": [
        "from sklearn.preprocessing import OneHotEncoder, LabelEncoder, StandardScaler\n",
        "cat_columns = []\n",
        "for column in df.columns:\n",
        "    if df[column].dtype == 'object':\n",
        "        df[column] = LabelEncoder().fit_transform(df[column])\n",
        "        # Create a new dataframe with one-hot encoded columns\n",
        "        #one_hot_encoded = pd.get_dummies(df[column], prefix=column, prefix_sep='_')\n",
        "        # Drop the original column and add the one-hot encoded columns to df_train\n",
        "        #df = df.drop(column, axis=1)\n",
        "        #df = df.join(one_hot_encoded)\n",
        "        cat_columns.append(column)"
      ],
      "metadata": {
        "id": "aiRWgiZXrlhb"
      },
      "execution_count": 433,
      "outputs": []
    },
    {
      "cell_type": "code",
      "source": [
        "corr_with_HousePrices = df.corrwith(df['SalePrice']).abs()\n",
        "\n",
        "# Print the correlations to the console\n",
        "print(corr_with_HousePrices)\n",
        "print(len(corr_with_HousePrices))"
      ],
      "metadata": {
        "colab": {
          "base_uri": "https://localhost:8080/"
        },
        "id": "ImI58dP_s7IE",
        "outputId": "71dca151-1c76-444b-fc74-631bd50804e9"
      },
      "execution_count": 434,
      "outputs": [
        {
          "output_type": "stream",
          "name": "stdout",
          "text": [
            "1stFlrSF         0.605852\n",
            "2ndFlrSF         0.319334\n",
            "3SsnPorch        0.044584\n",
            "Alley            0.083121\n",
            "BedroomAbvGr     0.168213\n",
            "BldgType         0.085591\n",
            "BsmtCond         0.091503\n",
            "BsmtExposure     0.294589\n",
            "BsmtFinSF1       0.386420\n",
            "BsmtFinSF2       0.011378\n",
            "BsmtFinType1     0.098734\n",
            "BsmtFinType2     0.072717\n",
            "BsmtFullBath     0.227122\n",
            "BsmtHalfBath     0.016844\n",
            "BsmtQual         0.593734\n",
            "BsmtUnfSF        0.214479\n",
            "CentralAir       0.251328\n",
            "Condition1       0.091155\n",
            "Condition2       0.007513\n",
            "Electrical       0.234716\n",
            "EnclosedPorch    0.128578\n",
            "ExterCond        0.117303\n",
            "ExterQual        0.636884\n",
            "Exterior1st      0.103551\n",
            "Exterior2nd      0.103766\n",
            "Fence            0.140640\n",
            "FireplaceQu      0.097176\n",
            "Fireplaces       0.466929\n",
            "Foundation       0.382479\n",
            "FullBath         0.560664\n",
            "Functional       0.115328\n",
            "GarageArea       0.623431\n",
            "GarageCars       0.640409\n",
            "GarageCond       0.246705\n",
            "GarageFinish     0.425684\n",
            "GarageQual       0.205963\n",
            "GarageType       0.415283\n",
            "GarageYrBlt      0.261366\n",
            "GrLivArea        0.708624\n",
            "HalfBath         0.284108\n",
            "Heating          0.098812\n",
            "HeatingQC        0.400178\n",
            "HouseStyle       0.180163\n",
            "Id               0.021917\n",
            "KitchenAbvGr     0.135907\n",
            "KitchenQual      0.589189\n",
            "LandContour      0.015453\n",
            "LandSlope        0.051152\n",
            "LotArea          0.263843\n",
            "LotConfig        0.067396\n",
            "LotFrontage      0.327821\n",
            "LotShape         0.255580\n",
            "LowQualFinSF     0.025606\n",
            "MSSubClass       0.084284\n",
            "MSZoning         0.166872\n",
            "MasVnrArea       0.477493\n",
            "MasVnrType       0.018216\n",
            "MiscFeature      0.066316\n",
            "MiscVal          0.021190\n",
            "MoSold           0.046432\n",
            "Neighborhood     0.210851\n",
            "OpenPorchSF      0.315856\n",
            "OverallCond      0.077856\n",
            "OverallQual      0.790982\n",
            "PavedDrive       0.231357\n",
            "PoolArea         0.092404\n",
            "PoolQC           0.126070\n",
            "RoofMatl         0.132383\n",
            "RoofStyle        0.222405\n",
            "SaleCondition    0.213092\n",
            "SalePrice        1.000000\n",
            "SaleType         0.054911\n",
            "ScreenPorch      0.111447\n",
            "Street           0.041036\n",
            "TotRmsAbvGrd     0.533723\n",
            "TotalBsmtSF      0.613581\n",
            "Utilities        0.014314\n",
            "WoodDeckSF       0.324413\n",
            "YearBuilt        0.522897\n",
            "YearRemodAdd     0.507101\n",
            "YrSold           0.028923\n",
            "dtype: float64\n",
            "81\n"
          ]
        }
      ]
    },
    {
      "cell_type": "code",
      "source": [
        "# Select the columns that have a correlation above 0.1 with SalePrice\n",
        "correlated_columns = list(corr_with_HousePrices[corr_with_HousePrices > 0.1].index)\n",
        "\n",
        "df = df[correlated_columns + ['Id']]"
      ],
      "metadata": {
        "id": "v2CRJ3JTwKrm"
      },
      "execution_count": 435,
      "outputs": []
    },
    {
      "cell_type": "code",
      "source": [
        "df.isnull().sum()"
      ],
      "metadata": {
        "colab": {
          "base_uri": "https://localhost:8080/"
        },
        "id": "wrSxgDXlzIXQ",
        "outputId": "70537ebe-0857-44ee-c21c-2b0a5dba44ed"
      },
      "execution_count": 436,
      "outputs": [
        {
          "output_type": "execute_result",
          "data": {
            "text/plain": [
              "1stFlrSF            0\n",
              "2ndFlrSF            0\n",
              "BedroomAbvGr        0\n",
              "BsmtExposure        0\n",
              "BsmtFinSF1          1\n",
              "BsmtFullBath        2\n",
              "BsmtQual            0\n",
              "BsmtUnfSF           1\n",
              "CentralAir          0\n",
              "Electrical          0\n",
              "EnclosedPorch       0\n",
              "ExterCond           0\n",
              "ExterQual           0\n",
              "Exterior1st         0\n",
              "Exterior2nd         0\n",
              "Fence               0\n",
              "Fireplaces          0\n",
              "Foundation          0\n",
              "FullBath            0\n",
              "Functional          0\n",
              "GarageArea          1\n",
              "GarageCars          1\n",
              "GarageCond          0\n",
              "GarageFinish        0\n",
              "GarageQual          0\n",
              "GarageType          0\n",
              "GarageYrBlt         0\n",
              "GrLivArea           0\n",
              "HalfBath            0\n",
              "HeatingQC           0\n",
              "HouseStyle          0\n",
              "KitchenAbvGr        0\n",
              "KitchenQual         0\n",
              "LotArea             0\n",
              "LotFrontage         0\n",
              "LotShape            0\n",
              "MSZoning            0\n",
              "MasVnrArea         23\n",
              "Neighborhood        0\n",
              "OpenPorchSF         0\n",
              "OverallQual         0\n",
              "PavedDrive          0\n",
              "PoolQC              0\n",
              "RoofMatl            0\n",
              "RoofStyle           0\n",
              "SaleCondition       0\n",
              "SalePrice        1459\n",
              "ScreenPorch         0\n",
              "TotRmsAbvGrd        0\n",
              "TotalBsmtSF         1\n",
              "WoodDeckSF          0\n",
              "YearBuilt           0\n",
              "YearRemodAdd        0\n",
              "Id                  0\n",
              "dtype: int64"
            ]
          },
          "metadata": {},
          "execution_count": 436
        }
      ]
    },
    {
      "cell_type": "markdown",
      "source": [
        "#Fixing the last missing values"
      ],
      "metadata": {
        "id": "2Vp9EArYzefw"
      }
    },
    {
      "cell_type": "code",
      "source": [
        "missing_values = df.isnull().sum()\n",
        "missing_values = missing_values[missing_values != 0]\n",
        "print(missing_values)"
      ],
      "metadata": {
        "colab": {
          "base_uri": "https://localhost:8080/"
        },
        "id": "gshFRJqlzjK4",
        "outputId": "55c7f630-f251-49c8-ffa9-75fe0698f019"
      },
      "execution_count": 437,
      "outputs": [
        {
          "output_type": "stream",
          "name": "stdout",
          "text": [
            "BsmtFinSF1         1\n",
            "BsmtFullBath       2\n",
            "BsmtUnfSF          1\n",
            "GarageArea         1\n",
            "GarageCars         1\n",
            "MasVnrArea        23\n",
            "SalePrice       1459\n",
            "TotalBsmtSF        1\n",
            "dtype: int64\n"
          ]
        }
      ]
    },
    {
      "cell_type": "code",
      "source": [
        "import pandas as pd\n",
        "import numpy as np\n",
        "from sklearn.linear_model import LinearRegression\n",
        "\n",
        "# Identify columns with missing values\n",
        "missing_columns = list(df.columns[df.isnull().any()])\n",
        "missing_columns.remove('SalePrice')\n",
        "\n",
        "# Fill the missing values in each column\n",
        "for col in missing_columns:\n",
        "    print(col)\n",
        "    max_value = df[col].max()\n",
        "    if max_value > 20:\n",
        "        # Use mode to fill the missing values\n",
        "        median = df[col].median()\n",
        "        df[col].fillna(median, inplace=True)\n",
        "    else:\n",
        "\n",
        "        mode = df[col].mode().iloc[0]\n",
        "        print(\"mode\",mode)\n",
        "        df[col].fillna(mode, inplace=True)"
      ],
      "metadata": {
        "colab": {
          "base_uri": "https://localhost:8080/"
        },
        "id": "2oVpclSdz6-9",
        "outputId": "3a9d5f12-7e30-47bb-f31a-7e9f07de003a"
      },
      "execution_count": 438,
      "outputs": [
        {
          "output_type": "stream",
          "name": "stdout",
          "text": [
            "BsmtFinSF1\n",
            "BsmtFullBath\n",
            "mode 0.0\n",
            "BsmtUnfSF\n",
            "GarageArea\n",
            "GarageCars\n",
            "mode 2.0\n",
            "MasVnrArea\n",
            "TotalBsmtSF\n"
          ]
        },
        {
          "output_type": "stream",
          "name": "stderr",
          "text": [
            "C:\\Users\\hbvs9\\AppData\\Local\\Temp\\ipykernel_13644\\1941443223.py:16: FutureWarning: A value is trying to be set on a copy of a DataFrame or Series through chained assignment using an inplace method.\n",
            "The behavior will change in pandas 3.0. This inplace method will never work because the intermediate object on which we are setting values always behaves as a copy.\n",
            "\n",
            "For example, when doing 'df[col].method(value, inplace=True)', try using 'df.method({col: value}, inplace=True)' or df[col] = df[col].method(value) instead, to perform the operation inplace on the original object.\n",
            "\n",
            "\n",
            "  df[col].fillna(median, inplace=True)\n",
            "C:\\Users\\hbvs9\\AppData\\Local\\Temp\\ipykernel_13644\\1941443223.py:21: FutureWarning: A value is trying to be set on a copy of a DataFrame or Series through chained assignment using an inplace method.\n",
            "The behavior will change in pandas 3.0. This inplace method will never work because the intermediate object on which we are setting values always behaves as a copy.\n",
            "\n",
            "For example, when doing 'df[col].method(value, inplace=True)', try using 'df.method({col: value}, inplace=True)' or df[col] = df[col].method(value) instead, to perform the operation inplace on the original object.\n",
            "\n",
            "\n",
            "  df[col].fillna(mode, inplace=True)\n",
            "C:\\Users\\hbvs9\\AppData\\Local\\Temp\\ipykernel_13644\\1941443223.py:16: FutureWarning: A value is trying to be set on a copy of a DataFrame or Series through chained assignment using an inplace method.\n",
            "The behavior will change in pandas 3.0. This inplace method will never work because the intermediate object on which we are setting values always behaves as a copy.\n",
            "\n",
            "For example, when doing 'df[col].method(value, inplace=True)', try using 'df.method({col: value}, inplace=True)' or df[col] = df[col].method(value) instead, to perform the operation inplace on the original object.\n",
            "\n",
            "\n",
            "  df[col].fillna(median, inplace=True)\n",
            "C:\\Users\\hbvs9\\AppData\\Local\\Temp\\ipykernel_13644\\1941443223.py:16: FutureWarning: A value is trying to be set on a copy of a DataFrame or Series through chained assignment using an inplace method.\n",
            "The behavior will change in pandas 3.0. This inplace method will never work because the intermediate object on which we are setting values always behaves as a copy.\n",
            "\n",
            "For example, when doing 'df[col].method(value, inplace=True)', try using 'df.method({col: value}, inplace=True)' or df[col] = df[col].method(value) instead, to perform the operation inplace on the original object.\n",
            "\n",
            "\n",
            "  df[col].fillna(median, inplace=True)\n",
            "C:\\Users\\hbvs9\\AppData\\Local\\Temp\\ipykernel_13644\\1941443223.py:21: FutureWarning: A value is trying to be set on a copy of a DataFrame or Series through chained assignment using an inplace method.\n",
            "The behavior will change in pandas 3.0. This inplace method will never work because the intermediate object on which we are setting values always behaves as a copy.\n",
            "\n",
            "For example, when doing 'df[col].method(value, inplace=True)', try using 'df.method({col: value}, inplace=True)' or df[col] = df[col].method(value) instead, to perform the operation inplace on the original object.\n",
            "\n",
            "\n",
            "  df[col].fillna(mode, inplace=True)\n",
            "C:\\Users\\hbvs9\\AppData\\Local\\Temp\\ipykernel_13644\\1941443223.py:16: FutureWarning: A value is trying to be set on a copy of a DataFrame or Series through chained assignment using an inplace method.\n",
            "The behavior will change in pandas 3.0. This inplace method will never work because the intermediate object on which we are setting values always behaves as a copy.\n",
            "\n",
            "For example, when doing 'df[col].method(value, inplace=True)', try using 'df.method({col: value}, inplace=True)' or df[col] = df[col].method(value) instead, to perform the operation inplace on the original object.\n",
            "\n",
            "\n",
            "  df[col].fillna(median, inplace=True)\n",
            "C:\\Users\\hbvs9\\AppData\\Local\\Temp\\ipykernel_13644\\1941443223.py:16: FutureWarning: A value is trying to be set on a copy of a DataFrame or Series through chained assignment using an inplace method.\n",
            "The behavior will change in pandas 3.0. This inplace method will never work because the intermediate object on which we are setting values always behaves as a copy.\n",
            "\n",
            "For example, when doing 'df[col].method(value, inplace=True)', try using 'df.method({col: value}, inplace=True)' or df[col] = df[col].method(value) instead, to perform the operation inplace on the original object.\n",
            "\n",
            "\n",
            "  df[col].fillna(median, inplace=True)\n"
          ]
        }
      ]
    },
    {
      "cell_type": "code",
      "source": [
        "cat_columns"
      ],
      "metadata": {
        "colab": {
          "base_uri": "https://localhost:8080/"
        },
        "id": "LZbbrxtM7anM",
        "outputId": "4e133622-e140-401f-97e7-d65692c42093"
      },
      "execution_count": 439,
      "outputs": [
        {
          "output_type": "execute_result",
          "data": {
            "text/plain": [
              "['Alley',\n",
              " 'BldgType',\n",
              " 'BsmtCond',\n",
              " 'BsmtExposure',\n",
              " 'BsmtFinType1',\n",
              " 'BsmtFinType2',\n",
              " 'BsmtQual',\n",
              " 'CentralAir',\n",
              " 'Condition1',\n",
              " 'Condition2',\n",
              " 'Electrical',\n",
              " 'ExterCond',\n",
              " 'ExterQual',\n",
              " 'Exterior1st',\n",
              " 'Exterior2nd',\n",
              " 'Fence',\n",
              " 'FireplaceQu',\n",
              " 'Foundation',\n",
              " 'Functional',\n",
              " 'GarageCond',\n",
              " 'GarageFinish',\n",
              " 'GarageQual',\n",
              " 'GarageType',\n",
              " 'Heating',\n",
              " 'HeatingQC',\n",
              " 'HouseStyle',\n",
              " 'KitchenQual',\n",
              " 'LandContour',\n",
              " 'LandSlope',\n",
              " 'LotConfig',\n",
              " 'LotShape',\n",
              " 'MSZoning',\n",
              " 'MasVnrType',\n",
              " 'MiscFeature',\n",
              " 'Neighborhood',\n",
              " 'PavedDrive',\n",
              " 'PoolQC',\n",
              " 'RoofMatl',\n",
              " 'RoofStyle',\n",
              " 'SaleCondition',\n",
              " 'SaleType',\n",
              " 'Street',\n",
              " 'Utilities']"
            ]
          },
          "metadata": {},
          "execution_count": 439
        }
      ]
    },
    {
      "cell_type": "code",
      "source": [
        "from sklearn.preprocessing import OneHotEncoder, LabelEncoder, StandardScaler\n",
        "cat_columns\n",
        "for column in df:\n",
        "    if column in cat_columns:\n",
        "        #Create a new dataframe with one-hot encoded columns\n",
        "        one_hot_encoded = pd.get_dummies(df[column], prefix=column, prefix_sep='_')\n",
        "        # Drop the original column and add the one-hot encoded columns to df_train\n",
        "        df = df.drop(column, axis=1)\n",
        "        df = df.join(one_hot_encoded)"
      ],
      "metadata": {
        "id": "AenEOMEK7U9q"
      },
      "execution_count": 440,
      "outputs": []
    },
    {
      "cell_type": "code",
      "source": [
        "df.columns"
      ],
      "metadata": {
        "colab": {
          "base_uri": "https://localhost:8080/"
        },
        "id": "YlN6ZJ887uWE",
        "outputId": "8f378db3-ba2c-4ba0-bdfb-cde035a4f99c"
      },
      "execution_count": 441,
      "outputs": [
        {
          "output_type": "execute_result",
          "data": {
            "text/plain": [
              "Index(['1stFlrSF', '2ndFlrSF', 'BedroomAbvGr', 'BsmtFinSF1', 'BsmtFullBath',\n",
              "       'BsmtUnfSF', 'EnclosedPorch', 'Fireplaces', 'FullBath', 'GarageArea',\n",
              "       ...\n",
              "       'RoofStyle_2', 'RoofStyle_3', 'RoofStyle_4', 'RoofStyle_5',\n",
              "       'SaleCondition_0', 'SaleCondition_1', 'SaleCondition_2',\n",
              "       'SaleCondition_3', 'SaleCondition_4', 'SaleCondition_5'],\n",
              "      dtype='object', length=210)"
            ]
          },
          "metadata": {},
          "execution_count": 441
        }
      ]
    },
    {
      "cell_type": "markdown",
      "source": [
        "Model fit"
      ],
      "metadata": {
        "id": "IdxEN5aM5-UQ"
      }
    },
    {
      "cell_type": "code",
      "source": [
        "missing_values = df.isnull().sum()\n",
        "missing_values = missing_values[missing_values != 0]\n",
        "print(missing_values)"
      ],
      "metadata": {
        "colab": {
          "base_uri": "https://localhost:8080/"
        },
        "id": "5GdC0Rlm6CX9",
        "outputId": "fe7e4d66-2fa9-4ba0-802e-cfe8d4856a41"
      },
      "execution_count": 442,
      "outputs": [
        {
          "output_type": "stream",
          "name": "stdout",
          "text": [
            "SalePrice    1459\n",
            "dtype: int64\n"
          ]
        }
      ]
    },
    {
      "cell_type": "code",
      "source": [
        "df_train,df_test = divide_df(df)"
      ],
      "metadata": {
        "id": "KqxRW_Sw7x44"
      },
      "execution_count": 448,
      "outputs": []
    },
    {
      "cell_type": "code",
      "source": [
        "df_train.columns"
      ],
      "metadata": {
        "colab": {
          "base_uri": "https://localhost:8080/"
        },
        "id": "NMYhn94h9__7",
        "outputId": "9436097e-799f-41e8-cc52-2806952f6e20"
      },
      "execution_count": 454,
      "outputs": [
        {
          "output_type": "execute_result",
          "data": {
            "text/plain": [
              "Index(['1stFlrSF', '2ndFlrSF', 'BedroomAbvGr', 'BsmtFinSF1', 'BsmtFullBath',\n",
              "       'BsmtUnfSF', 'EnclosedPorch', 'Fireplaces', 'FullBath', 'GarageArea',\n",
              "       ...\n",
              "       'RoofStyle_2', 'RoofStyle_3', 'RoofStyle_4', 'RoofStyle_5',\n",
              "       'SaleCondition_0', 'SaleCondition_1', 'SaleCondition_2',\n",
              "       'SaleCondition_3', 'SaleCondition_4', 'SaleCondition_5'],\n",
              "      dtype='object', length=210)"
            ]
          },
          "metadata": {},
          "execution_count": 454
        }
      ]
    },
    {
      "cell_type": "code",
      "source": [
        "X = StandardScaler().fit_transform(df_train.drop(columns=['SalePrice','Id']))\n",
        "y = df_train['SalePrice'].values\n",
        "X_test = StandardScaler().fit_transform(df_test.drop(columns=['Id']))\n",
        "\n",
        "print('X_train shape: {}'.format(X_train.shape))\n",
        "print('y_train shape: {}'.format(y_train.shape))\n",
        "print('X_test shape: {}'.format(X_test.shape))"
      ],
      "metadata": {
        "colab": {
          "base_uri": "https://localhost:8080/"
        },
        "id": "7HehS_ly7GiM",
        "outputId": "60abc5d6-4490-42a8-98f5-55bd0546a6c2"
      },
      "execution_count": 487,
      "outputs": [
        {
          "output_type": "stream",
          "name": "stdout",
          "text": [
            "X_train shape: (1460, 208)\n",
            "y_train shape: (1460,)\n",
            "X_test shape: (1459, 208)\n"
          ]
        }
      ]
    },
    {
      "cell_type": "code",
      "source": [
        "output = pd.DataFrame({'Id': df_test['Id'], 'SalePrice': y_pred})\n",
        "output.to_csv('submission.csv', index=False)\n",
        "submission = pd.read_csv(\"submission.csv\")"
      ],
      "metadata": {
        "id": "kuvFu24U9fCR"
      },
      "execution_count": 473,
      "outputs": []
    }
  ]
}